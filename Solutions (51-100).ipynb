{
 "cells": [
  {
   "cell_type": "markdown",
   "metadata": {},
   "source": [
    "# <center>Project Euler (51-100)</center>"
   ]
  },
  {
   "cell_type": "markdown",
   "metadata": {},
   "source": [
    "## Table of contents:\n",
    "* [51. Prime digit replacements](#51)\n",
    "* [52. Permuted multiples](#52)\n",
    "* [53. Combinatoric selections](#53)\n",
    "* [54. Poker hands](#54)\n",
    "* [55. Lychrel numbers](#55)\n",
    "* [56. Powerful digit sum](#56)\n",
    "* [57. Square root convergents](#57)\n",
    "* [58. Spiral primes](#58)\n",
    "* [59. XOR decryption](#59)\n",
    "* [60. Prime pair sets](#60)"
   ]
  },
  {
   "cell_type": "markdown",
   "metadata": {},
   "source": [
    "<a id='51'></a>\n",
    "## 51. Prime digit replacements\n",
    "By replacing the $1^{st}$ digit of the 2-digit number _3, it turns out that six of the nine possible values: 13, 23, 43, 53, 73, and 83, are all prime.\n",
    "\n",
    "By replacing the $3^{rd}$ and $4^{th}$ digits of 56__3 with the same digit, this 5-digit number is the first example having seven primes among the ten generated numbers, yielding the family: 56003, 56113, 56333, 56443, 56663, 56773, and 56993. Consequently 56003, being the first member of this family, is the smallest prime with this property.\n",
    "\n",
    "Find the smallest prime which, by replacing part of the number (not necessarily adjacent digits) with the same digit, is part of an eight prime value family."
   ]
  },
  {
   "cell_type": "code",
   "execution_count": 1,
   "metadata": {},
   "outputs": [],
   "source": [
    "def problem_51(lim, places):\n",
    "    primes = [num for num in range(2, 1000000) if all(num % i for i in range(2, int(round(num**0.5 + 1)))) \n",
    "                                                    and len(str(num)) - len(set(str(num))) >= places]\n",
    "    for prime in primes:\n",
    "        duplicates = {}\n",
    "        generate_nums = []\n",
    "        generate_primes = []\n",
    "        for num in str(prime):\n",
    "            if num in duplicates:\n",
    "                duplicates[num] += 1\n",
    "            else:\n",
    "                duplicates[num] = 1\n",
    "        for duplicate in [k for k, v in duplicates.items() if v > 1]:\n",
    "            replacers = [str(i) for i in range(10)]\n",
    "            generate_nums.append([int(str(prime).replace(duplicate, replacer)) for replacer in replacers])\n",
    "        for generate_row in generate_nums:\n",
    "            primes_count = 0\n",
    "            for generate_num in generate_row:\n",
    "                if generate_num in primes and len(str(generate_num)) == len(str(prime)):\n",
    "                    primes_count += 1\n",
    "            generate_primes.append(primes_count)\n",
    "        if len(generate_primes) > 0 and max(generate_primes) == lim:\n",
    "            return prime"
   ]
  },
  {
   "cell_type": "code",
   "execution_count": 2,
   "metadata": {},
   "outputs": [
    {
     "name": "stdout",
     "output_type": "stream",
     "text": [
      "121313\n"
     ]
    }
   ],
   "source": [
    "print(problem_51(8, 3))"
   ]
  },
  {
   "cell_type": "markdown",
   "metadata": {},
   "source": [
    "<a id='52'></a>\n",
    "## 52. Permuted multiples\n",
    "It can be seen that the number, 125874, and its double, 251748, contain exactly the same digits, but in a different order.\n",
    "\n",
    "Find the smallest positive integer, $x$, such that $2x$, $3x$, $4x$, $5x$ and $6x$, contain the same digits."
   ]
  },
  {
   "cell_type": "code",
   "execution_count": 7,
   "metadata": {},
   "outputs": [],
   "source": [
    "def problem_52():\n",
    "    def is_permuted(x, y):\n",
    "        return sorted(str(x)) == sorted(str(y))\n",
    "\n",
    "    x = 1\n",
    "    while True:\n",
    "        x += 1\n",
    "        if is_permuted(x, x * 2) and is_permuted(x, x * 3) \\\n",
    "        and is_permuted(x, x * 4) and is_permuted(x, x * 5) \\\n",
    "        and is_permuted(x, x * 6):\n",
    "            return x"
   ]
  },
  {
   "cell_type": "code",
   "execution_count": 8,
   "metadata": {},
   "outputs": [
    {
     "name": "stdout",
     "output_type": "stream",
     "text": [
      "142857\n"
     ]
    }
   ],
   "source": [
    "print(problem_52())"
   ]
  },
  {
   "cell_type": "markdown",
   "metadata": {},
   "source": [
    "<a id='53'></a>\n",
    "## 53. Combinatoric selections\n",
    "There are exactly ten ways of selecting three from five, 12345:\n",
    "\n",
    "$$123, 124, 125, 134, 135, 145, 234, 235, 245, 345$$\n",
    "\n",
    "In combinatorics, we use the notation, \n",
    "\n",
    "$$^5C_3 = 10$$\n",
    "\n",
    "In general,\n",
    "\n",
    "$$^nC_r = \\frac{n!}{r!(n−r)!}$$\n",
    "\n",
    "where $r ≤ n$, $n! = n\\cdot(n−1)\\cdot...\\cdot3\\cdot2\\cdot1, 0! = 1$.\n",
    "\n",
    "It is not until $n = 23$, that a value exceeds one-million:\n",
    "\n",
    "$$^{23}C_{10} = 1144066$$\n",
    "    \n",
    "How many, not necessarily distinct, values of $^nC_r$, for $1 ≤ n ≤ 100$, are greater than one-million?"
   ]
  },
  {
   "cell_type": "code",
   "execution_count": 9,
   "metadata": {},
   "outputs": [],
   "source": [
    "def problem_53(nmin, nmax, lim):\n",
    "    def factorial(n):\n",
    "        fact = 1\n",
    "        for i in range(1, n + 1):\n",
    "            fact *= i        \n",
    "        return fact\n",
    "    \n",
    "    values = 0\n",
    "    for n in range(nmin, nmax + 1):\n",
    "        for r in range(1, n):\n",
    "            c = factorial(n) / (factorial(r) * factorial(n - r))\n",
    "            if c > lim:\n",
    "                values += 1\n",
    "    return values"
   ]
  },
  {
   "cell_type": "code",
   "execution_count": 10,
   "metadata": {},
   "outputs": [
    {
     "name": "stdout",
     "output_type": "stream",
     "text": [
      "4075\n"
     ]
    }
   ],
   "source": [
    "print(problem_53(1, 100, 1000000))"
   ]
  },
  {
   "cell_type": "markdown",
   "metadata": {},
   "source": [
    "<a id='54'></a>\n",
    "## 54. Poker hands\n",
    "In the card game poker, a hand consists of five cards and are ranked, from lowest to highest, in the following way:\n",
    "\n",
    "* High Card: Highest value card.\n",
    "* One Pair: Two cards of the same value.\n",
    "* Two Pairs: Two different pairs.\n",
    "* Three of a Kind: Three cards of the same value.\n",
    "* Straight: All cards are consecutive values.\n",
    "* Flush: All cards of the same suit.\n",
    "* Full House: Three of a kind and a pair.\n",
    "* Four of a Kind: Four cards of the same value.\n",
    "* Straight Flush: All cards are consecutive values of same suit.\n",
    "* Royal Flush: Ten, Jack, Queen, King, Ace, in same suit.\n",
    "\n",
    "The cards are valued in the order:\n",
    "$$2, 3, 4, 5, 6, 7, 8, 9, 10, Jack, Queen, King, Ace$$\n",
    "\n",
    "If two players have the same ranked hands then the rank made up of the highest value wins; for example, a pair of eights beats a pair of fives (see example 1 below). But if two ranks tie, for example, both players have a pair of queens, then highest cards in each hand are compared (see example 4 below); if the highest cards tie then the next highest cards are compared, and so on.\n",
    "\n",
    "Consider the following five hands dealt to two players:\n",
    "\n",
    "| Hand | Player 1 | Player 2 | Winner |\n",
    "| --- | --- | --- | --- |\n",
    "| 1 | 5H 5C 6S 7S KD<br>(Pair of Fives) | 2C 3S 8S 8D TD<br>(Pair of Eights) | Player 2 |\n",
    "| 2 | 5D 8C 9S JS AC<br>(Highest card Ace) | 2C 5C 7D 8S QH<br>(Highest card Queen) | Player 1 |\n",
    "| 3 | 2D 9C AS AH AC<br>(Three Aces) | 3D 6D 7D TD QD<br>(Flush with Diamonds) | Player 2 |\n",
    "| 4 | 4D 6S 9H QH QC<br>(Pair of Queens, Highest card Nine) | 3D 6D 7H QD QS<br>(Pair of Queens, Highest card Seven) | Player 1 |\n",
    "| 5 | 2H 2D 4C 4D 4S<br>(Full House, With Three Fours) | 3C 3D 3S 9S 9D<br>(Full House, With Three Threes) | Player 1 |\n",
    "\n",
    "The file, poker.txt, contains one-thousand random hands dealt to two players. Each line of the file contains ten cards (separated by a single space): the first five are Player 1's cards and the last five are Player 2's cards. You can assume that all hands are valid (no invalid characters or repeated cards), each player's hand is in no specific order, and in each hand there is a clear winner.\n",
    "\n",
    "How many hands does Player 1 win?"
   ]
  },
  {
   "cell_type": "code",
   "execution_count": 21,
   "metadata": {},
   "outputs": [],
   "source": [
    "def problem_54(file):\n",
    "    def check_hand(hand):\n",
    "        result, highest, highest_ext = '', 0, 0\n",
    "        cards, values, suits = [], [], []\n",
    "        freqs = {}\n",
    "        for card in hand:\n",
    "            cards.append(card[0])\n",
    "            values.append(cards_value[card[0]])\n",
    "            suits.append(card[1])\n",
    "            if card[0] in freqs:\n",
    "                freqs[card[0]] += 1\n",
    "            else:\n",
    "                freqs[card[0]] = 1\n",
    "        if len(set(suits)) == 1 and sum(values) == 60:\n",
    "            result = 'Royal Flush'\n",
    "        elif len(set(suits)) == 1 and len(set(cards)) == 5 and max(values) - min(values) == 4:\n",
    "            result = 'Straight Flush'\n",
    "            highest = max(values)\n",
    "        elif len(set(cards)) == 2 and 4 in freqs.values():\n",
    "            result = 'Four of a Kind'\n",
    "            highest = cards_value[sorted(freqs, key=lambda x: freqs[x])[1]]\n",
    "        elif len(set(cards)) == 2 and 3 in freqs.values():\n",
    "            result = 'Full House'\n",
    "            highest = cards_value[sorted(freqs, key=lambda x: freqs[x])[1]]\n",
    "        elif len(set(suits)) == 1:\n",
    "            result = 'Flush'\n",
    "            highest = max(values)\n",
    "        elif len(set(cards)) == 5 and max(values) - min(values) == 4:\n",
    "            result = 'Straight'\n",
    "            highest = max(values)\n",
    "        elif 3 in freqs.values():\n",
    "            result = 'Three of a Kind'\n",
    "            highest = cards_value[sorted(freqs, key=lambda x: freqs[x])[-1]]\n",
    "        elif len(set(cards)) == 3 and 1 in freqs.values():\n",
    "            result = 'Two Pairs'\n",
    "            highest = max([cards_value[x] for x in sorted(freqs, key=lambda x: freqs[x])[-1: -3: -1]])\n",
    "            highest_ext = cards_value[sorted(freqs, key=lambda x: freqs[x])[0]]\n",
    "        elif len(set(cards)) == 4:\n",
    "            result = 'One Pair'\n",
    "            highest = cards_value[sorted(freqs, key=lambda x: freqs[x])[-1]]\n",
    "            highest_ext = max([cards_value[x] for x in sorted(freqs, key=lambda x: freqs[x])[: 3]])\n",
    "        else:\n",
    "            result = 'High Card'\n",
    "            highest = max(values)\n",
    "        return combinations_value[result], highest, highest_ext\n",
    "        \n",
    "    cards_value = {'2': 2, '3': 3, '4': 4, '5': 5, '6': 6, '7': 7, '8': 8,\n",
    "                   '9': 9, 'T': 10, 'J': 11, 'Q': 12, 'K': 13, 'A': 14}\n",
    "    combinations_value = {'High Card': 1, 'One Pair': 2, 'Two Pairs': 3,\n",
    "                          'Three of a Kind': 4, 'Straight': 5, 'Flush': 6,\n",
    "                          'Full House': 7, 'Four of a Kind': 8,\n",
    "                          'Straight Flush': 9, 'Royal Flush': 10}\n",
    "    with open(file, 'r') as file:\n",
    "        hands = [cards.split(' ') for cards in file.read().split('\\n')][:-1]\n",
    "        player_1 = [hand[: 5] for i, hand in enumerate(hands)]\n",
    "        player_2 = [hand[5: 10] for i, hand in enumerate(hands)]\n",
    "    player_1_wins = 0\n",
    "    for i in range(len(player_1)):\n",
    "        result_1, highest_1, highest_ext_1 = check_hand(player_1[i])\n",
    "        result_2, highest_2, highest_ext_2 = check_hand(player_2[i])\n",
    "        total_1 = result_1 * 10000 + highest_1 * 100 + highest_ext_1\n",
    "        total_2 = result_2 * 10000 + highest_2 * 100 + highest_ext_2\n",
    "        if total_1 > total_2:\n",
    "            player_1_wins += 1\n",
    "    return player_1_wins"
   ]
  },
  {
   "cell_type": "code",
   "execution_count": 22,
   "metadata": {},
   "outputs": [
    {
     "name": "stdout",
     "output_type": "stream",
     "text": [
      "376\n"
     ]
    }
   ],
   "source": [
    "print(problem_54('./Resources/p054_poker.txt'))"
   ]
  },
  {
   "cell_type": "markdown",
   "metadata": {},
   "source": [
    "<a id='55'></a>\n",
    "## 55. Lychrel numbers\n",
    "If we take 47, reverse and add, $47 + 74 = 121$, which is palindromic.\n",
    "\n",
    "Not all numbers produce palindromes so quickly. For example,\n",
    "\n",
    "$$349 + 943 = 1292$$\n",
    "$$1292 + 2921 = 4213$$\n",
    "$$4213 + 3124 = 7337$$\n",
    "\n",
    "That is, 349 took three iterations to arrive at a palindrome.\n",
    "\n",
    "Although no one has proved it yet, it is thought that some numbers, like 196, never produce a palindrome. A number that never forms a palindrome through the reverse and add process is called a Lychrel number. Due to the theoretical nature of these numbers, and for the purpose of this problem, we shall assume that a number is Lychrel until proven otherwise. In addition you are given that for every number below ten-thousand, it will either (i) become a palindrome in less than fifty iterations, or, (ii) no one, with all the computing power that exists, has managed so far to map it to a palindrome. In fact, 10677 is the first number to be shown to require over fifty iterations before producing a palindrome: 4668731596684224866951378664 (53 iterations, 28-digits).\n",
    "    \n",
    "Surprisingly, there are palindromic numbers that are themselves Lychrel numbers; the first example is 4994.\n",
    "\n",
    "How many Lychrel numbers are there below ten-thousand?"
   ]
  },
  {
   "cell_type": "code",
   "execution_count": 19,
   "metadata": {},
   "outputs": [],
   "source": [
    "def problem_55(lim):\n",
    "    num = 0\n",
    "    for n in range(1, lim + 1):\n",
    "        n_new = n\n",
    "        flag = True\n",
    "        for i in range(50):\n",
    "            n_new = n_new + int(str(n_new)[::-1])\n",
    "            if str(n_new) == str(n_new)[::-1]:\n",
    "                flag = False\n",
    "                break\n",
    "        if flag:\n",
    "            num += 1\n",
    "    return num"
   ]
  },
  {
   "cell_type": "code",
   "execution_count": 20,
   "metadata": {},
   "outputs": [
    {
     "name": "stdout",
     "output_type": "stream",
     "text": [
      "249\n"
     ]
    }
   ],
   "source": [
    "print(problem_55(10000))"
   ]
  },
  {
   "cell_type": "markdown",
   "metadata": {},
   "source": [
    "<a id='56'></a>\n",
    "## 56. Powerful digit sum\n",
    "A googol ($10^{100}$) is a massive number: one followed by one-hundred zeros; $100^{100}$ is almost unimaginably large: one followed by two-hundred zeros. Despite their size, the sum of the digits in each number is only 1.\n",
    "\n",
    "Considering natural numbers of the form, $a^b$, where $a, b < 100$, what is the maximum digital sum?"
   ]
  },
  {
   "cell_type": "code",
   "execution_count": 1,
   "metadata": {},
   "outputs": [],
   "source": [
    "def problem_56(lim):\n",
    "    max_sum = 0\n",
    "    for a in range(2, 100):\n",
    "        for b in range(2, 100):\n",
    "            max_sum = max(max_sum, sum([int(num) for num in str(a**b)]))\n",
    "    return max_sum"
   ]
  },
  {
   "cell_type": "code",
   "execution_count": 2,
   "metadata": {},
   "outputs": [
    {
     "name": "stdout",
     "output_type": "stream",
     "text": [
      "972\n"
     ]
    }
   ],
   "source": [
    "print(problem_56(100))"
   ]
  },
  {
   "cell_type": "markdown",
   "metadata": {},
   "source": [
    "<a id='57'></a>\n",
    "## 57. Square root convergents\n",
    "It is possible to show that the square root of two can be expressed as an infinite continued fraction.\n",
    "\n",
    "$$\\sqrt2 = 1 + 1/(2 + 1/(2 + 1/(2 + ... ))) = 1.414213 ...$$\n",
    "\n",
    "By expanding this for the first four iterations, we get:\n",
    "\n",
    "$$1 + 1/2 = 3/2 = 1.5$$\n",
    "$$1 + 1/(2 + 1/2) = 7/5 = 1.4$$\n",
    "$$1 + 1/(2 + 1/(2 + 1/2)) = 17/12 = 1.41666...$$\n",
    "$$1 + 1/(2 + 1/(2 + 1/(2 + 1/2))) = 41/29 = 1.41379...$$\n",
    "\n",
    "The next three expansions are 99/70, 239/169, and 577/408, but the eighth expansion, 1393/985, is the first example where the number of digits in the numerator exceeds the number of digits in the denominator.\n",
    "\n",
    "In the first one-thousand expansions, how many fractions contain a numerator with more digits than denominator?"
   ]
  },
  {
   "cell_type": "code",
   "execution_count": 3,
   "metadata": {},
   "outputs": [],
   "source": [
    "def problem_57(lim):\n",
    "    result = 0\n",
    "    numerator = 3\n",
    "    denominator = 2\n",
    "    for i in range(lim):\n",
    "        numerator += denominator * 2\n",
    "        denominator = numerator - denominator\n",
    "        if (len(str(numerator)) > len(str(denominator))):\n",
    "            result += 1\n",
    "    return result"
   ]
  },
  {
   "cell_type": "code",
   "execution_count": 4,
   "metadata": {},
   "outputs": [
    {
     "name": "stdout",
     "output_type": "stream",
     "text": [
      "153\n"
     ]
    }
   ],
   "source": [
    "print(problem_57(1000))"
   ]
  },
  {
   "cell_type": "markdown",
   "metadata": {},
   "source": [
    "<a id='58'></a>\n",
    "## 58. Spiral primes\n",
    "Starting with 1 and spiralling anticlockwise in the following way, a square spiral with side length 7 is formed.\n",
    "\n",
    "    37 36 35 34 33 32 31\n",
    "    38 17 16 15 14 13 30\n",
    "    39 18  5  4  3 12 29\n",
    "    40 19  6  1  2 11 28\n",
    "    41 20  7  8  9 10 27\n",
    "    42 21 22 23 24 25 26\n",
    "    43 44 45 46 47 48 49\n",
    "    \n",
    "It is interesting to note that the odd squares lie along the bottom right diagonal, but what is more interesting is that 8 out of the 13 numbers lying along both diagonals are prime; that is, a ratio of 8/13 ≈ 62%.\n",
    "\n",
    "If one complete new layer is wrapped around the spiral above, a square spiral with side length 9 will be formed. If this process is continued, what is the side length of the square spiral for which the ratio of primes along both diagonals first falls below 10%?"
   ]
  },
  {
   "cell_type": "code",
   "execution_count": 7,
   "metadata": {},
   "outputs": [],
   "source": [
    "def problem_58(lim):\n",
    "    def is_prime(n):\n",
    "        return all(n % i for i in range(2, int(round(n**0.5 + 1))))\n",
    "    def count_prime_corners(s):\n",
    "        corner_1 = s**2 - 3 * s + 3\n",
    "        corner_2 = s**2 - 2 * s + 2\n",
    "        corner_3 = s**2 - 1 * s + 1\n",
    "        return is_prime(corner_1) + is_prime(corner_2) + is_prime(corner_3)\n",
    "    \n",
    "    size = 7\n",
    "    prime_corners = 8\n",
    "    ratio = 1\n",
    "    while True:\n",
    "        size += 2\n",
    "        prime_corners += count_prime_corners(size)\n",
    "        ratio = prime_corners / (size // 2 * 4)\n",
    "        if ratio <= lim:\n",
    "            return size"
   ]
  },
  {
   "cell_type": "code",
   "execution_count": 8,
   "metadata": {},
   "outputs": [
    {
     "name": "stdout",
     "output_type": "stream",
     "text": [
      "26241\n"
     ]
    }
   ],
   "source": [
    "print(problem_58(0.1))"
   ]
  },
  {
   "cell_type": "markdown",
   "metadata": {},
   "source": [
    "<a id='59'></a>\n",
    "## 59. XOR decryption\n",
    "Each character on a computer is assigned a unique code and the preferred standard is ASCII (American Standard Code for Information Interchange). For example, uppercase $A = 65$, asterisk $(*) = 42$, and lowercase $k = 107$.\n",
    "\n",
    "A modern encryption method is to take a text file, convert the bytes to ASCII, then $XOR$ each byte with a given value, taken from a secret key. The advantage with the $XOR$ function is that using the same encryption key on the cipher text, restores the plain text; for example, $65\\oplus42 = 107$, then $107\\oplus42 = 65$.\n",
    "\n",
    "For unbreakable encryption, the key is the same length as the plain text message, and the key is made up of random bytes. The user would keep the encrypted message and the encryption key in different locations, and without both \"halves\", it is impossible to decrypt the message.\n",
    "\n",
    "Unfortunately, this method is impractical for most users, so the modified method is to use a password as a key. If the password is shorter than the message, which is likely, the key is repeated cyclically throughout the message. The balance for this method is using a sufficiently long password key for security, but short enough to be memorable.\n",
    "\n",
    "Your task has been made easy, as the encryption key consists of three lower case characters. Using cipher.txt (right click and 'Save Link/Target As...'), a file containing the encrypted ASCII codes, and the knowledge that the plain text must contain common English words, decrypt the message and find the sum of the ASCII values in the original text."
   ]
  },
  {
   "cell_type": "code",
   "execution_count": 5,
   "metadata": {},
   "outputs": [],
   "source": [
    "def problem_59(file):\n",
    "    def is_letter(char):\n",
    "        return char in range(97, 123) or char in range(32, 91)\n",
    "    \n",
    "    with open(file, 'r') as file:\n",
    "        encr_chars = [int(encr_char) for encr_char in file.read().replace('\\n', ',').split(',')[:-1]]\n",
    "    keys = []\n",
    "    for i in range(97, 123):\n",
    "        for j in range(97, 123):\n",
    "            for k in range(97, 123):\n",
    "                keys.append([i, j, k])\n",
    "    for key in keys:\n",
    "        if all([is_letter(encr_char ^ key[i % 3]) for i, encr_char in enumerate(encr_chars)]):\n",
    "            print(''.join([chr(encr_char ^ key[i % 3]) for i, encr_char in enumerate(encr_chars)]))\n",
    "            return sum([encr_char ^ key[i % 3] for i, encr_char in enumerate(encr_chars)])"
   ]
  },
  {
   "cell_type": "code",
   "execution_count": 6,
   "metadata": {},
   "outputs": [
    {
     "name": "stdout",
     "output_type": "stream",
     "text": [
      "(The Gospel of John, chapter 1) 1 In the beginning the Word already existed. He was with God, and he was God. 2 He was in the beginning with God. 3 He created everything there is. Nothing exists that he didn't make. 4 Life itself was in him, and this life gives light to everyone. 5 The light shines through the darkness, and the darkness can never extinguish it. 6 God sent John the Baptist 7 to tell everyone about the light so that everyone might believe because of his testimony. 8 John himself was not the light; he was only a witness to the light. 9 The one who is the true light, who gives light to everyone, was going to come into the world. 10 But although the world was made through him, the world didn't recognize him when he came. 11 Even in his own land and among his own people, he was not accepted. 12 But to all who believed him and accepted him, he gave the right to become children of God. 13 They are reborn! This is not a physical birth resulting from human passion or plan, this rebirth comes from God.14 So the Word became human and lived here on earth among us. He was full of unfailing love and faithfulness. And we have seen his glory, the glory of the only Son of the Father.\n",
      "107359\n"
     ]
    }
   ],
   "source": [
    "print(problem_59('./Resources/p059_cipher.txt'))"
   ]
  },
  {
   "cell_type": "markdown",
   "metadata": {},
   "source": [
    "<a id='60'></a>\n",
    "## 60. Prime pair sets\n",
    "The primes 3, 7, 109, and 673, are quite remarkable. By taking any two primes and concatenating them in any order the result will always be prime. For example, taking 7 and 109, both 7109 and 1097 are prime. The sum of these four primes, 792, represents the lowest sum for a set of four primes with this property.\n",
    "\n",
    "Find the lowest sum for a set of five primes for which any two primes concatenate to produce another prime."
   ]
  },
  {
   "cell_type": "code",
   "execution_count": 5,
   "metadata": {},
   "outputs": [],
   "source": [
    "def problem_60():\n",
    "    def is_pair_prime(primes):\n",
    "        pairs = [(a, b) for i, a in enumerate(primes) for b in primes[i + 1:]]\n",
    "        for pair in pairs:\n",
    "            a, b = int(str(pair[0]) + str(pair[1])), int(str(pair[1]) + str(pair[0]))\n",
    "            if not all(a % i for i in range(2, int(round(a**0.5 + 1)))) or not all(b % i for i in range(2, int(round(b**0.5 + 1)))):\n",
    "                return False\n",
    "        return True\n",
    "    \n",
    "    primes = [num for num in range(3, 10000) if all(num % i for i in range(2, int(round(num**0.5 + 1))))]\n",
    "    for a in range(len(primes)):\n",
    "        for b in range(a + 1, len(primes)):\n",
    "            if not is_pair_prime([primes[a], primes[b]]):\n",
    "                continue\n",
    "            for c in range(b + 1, len(primes)):\n",
    "                if not is_pair_prime([primes[a], primes[b], primes[c]]):\n",
    "                    continue\n",
    "                for d in range(c + 1, len(primes)):\n",
    "                    if not is_pair_prime([primes[a], primes[b], primes[c], primes[d]]):\n",
    "                        continue\n",
    "                    for e in range(d + 1, len(primes)):\n",
    "                        if not is_pair_prime([primes[a], primes[b], primes[c], primes[d], primes[e]]):\n",
    "                            continue\n",
    "                        return primes[a] + primes[b] + primes[c] + primes[d] + primes[e]"
   ]
  },
  {
   "cell_type": "code",
   "execution_count": 6,
   "metadata": {},
   "outputs": [
    {
     "name": "stdout",
     "output_type": "stream",
     "text": [
      "26033\n"
     ]
    }
   ],
   "source": [
    "print(problem_60())"
   ]
  }
 ],
 "metadata": {
  "kernelspec": {
   "display_name": "Python 3",
   "language": "python",
   "name": "python3"
  },
  "language_info": {
   "codemirror_mode": {
    "name": "ipython",
    "version": 3
   },
   "file_extension": ".py",
   "mimetype": "text/x-python",
   "name": "python",
   "nbconvert_exporter": "python",
   "pygments_lexer": "ipython3",
   "version": "3.6.8"
  }
 },
 "nbformat": 4,
 "nbformat_minor": 2
}
