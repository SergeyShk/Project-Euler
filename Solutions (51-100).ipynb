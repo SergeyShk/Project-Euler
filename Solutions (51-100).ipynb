{
 "cells": [
  {
   "cell_type": "markdown",
   "metadata": {},
   "source": [
    "# <center>Project Euler (51-100)</center>"
   ]
  },
  {
   "cell_type": "markdown",
   "metadata": {},
   "source": [
    "## Table of contents:\n",
    "* [51. Prime digit replacements](#51)\n",
    "* [52. Permuted multiples](#52)\n",
    "* [53. Combinatoric selections](#53)\n",
    "* [54. Poker hands](#54)\n",
    "* [55. Lychrel numbers](#55)"
   ]
  },
  {
   "cell_type": "markdown",
   "metadata": {},
   "source": [
    "<a id='51'></a>\n",
    "## 51. Prime digit replacements\n",
    "By replacing the $1^{st}$ digit of the 2-digit number _3, it turns out that six of the nine possible values: 13, 23, 43, 53, 73, and 83, are all prime.\n",
    "\n",
    "By replacing the $3^{rd}$ and $4^{th}$ digits of 56__3 with the same digit, this 5-digit number is the first example having seven primes among the ten generated numbers, yielding the family: 56003, 56113, 56333, 56443, 56663, 56773, and 56993. Consequently 56003, being the first member of this family, is the smallest prime with this property.\n",
    "\n",
    "Find the smallest prime which, by replacing part of the number (not necessarily adjacent digits) with the same digit, is part of an eight prime value family."
   ]
  },
  {
   "cell_type": "code",
   "execution_count": 1,
   "metadata": {},
   "outputs": [],
   "source": [
    "def problem_51(lim, places):\n",
    "    primes = [num for num in range(2, 1000000) if all(num % i for i in range(2, int(round(num**0.5 + 1)))) \n",
    "                                                    and len(str(num)) - len(set(str(num))) >= places]\n",
    "    for prime in primes:\n",
    "        duplicates = {}\n",
    "        generate_nums = []\n",
    "        generate_primes = []\n",
    "        for num in str(prime):\n",
    "            if num in duplicates:\n",
    "                duplicates[num] += 1\n",
    "            else:\n",
    "                duplicates[num] = 1\n",
    "        for duplicate in [k for k, v in duplicates.items() if v > 1]:\n",
    "            replacers = [str(i) for i in range(10)]\n",
    "            generate_nums.append([int(str(prime).replace(duplicate, replacer)) for replacer in replacers])\n",
    "        for generate_row in generate_nums:\n",
    "            primes_count = 0\n",
    "            for generate_num in generate_row:\n",
    "                if generate_num in primes and len(str(generate_num)) == len(str(prime)):\n",
    "                    primes_count += 1\n",
    "            generate_primes.append(primes_count)\n",
    "        if len(generate_primes) > 0 and max(generate_primes) == lim:\n",
    "            return prime"
   ]
  },
  {
   "cell_type": "code",
   "execution_count": 2,
   "metadata": {},
   "outputs": [
    {
     "name": "stdout",
     "output_type": "stream",
     "text": [
      "121313\n"
     ]
    }
   ],
   "source": [
    "print(problem_51(8, 3))"
   ]
  },
  {
   "cell_type": "markdown",
   "metadata": {},
   "source": [
    "<a id='52'></a>\n",
    "## 52. Permuted multiples\n",
    "It can be seen that the number, 125874, and its double, 251748, contain exactly the same digits, but in a different order.\n",
    "\n",
    "Find the smallest positive integer, $x$, such that $2x$, $3x$, $4x$, $5x$ and $6x$, contain the same digits."
   ]
  },
  {
   "cell_type": "code",
   "execution_count": 7,
   "metadata": {},
   "outputs": [],
   "source": [
    "def problem_52():\n",
    "    def is_permuted(x, y):\n",
    "        return sorted(str(x)) == sorted(str(y))\n",
    "\n",
    "    x = 1\n",
    "    while True:\n",
    "        x += 1\n",
    "        if is_permuted(x, x * 2) and is_permuted(x, x * 3) \\\n",
    "        and is_permuted(x, x * 4) and is_permuted(x, x * 5) \\\n",
    "        and is_permuted(x, x * 6):\n",
    "            return x"
   ]
  },
  {
   "cell_type": "code",
   "execution_count": 8,
   "metadata": {},
   "outputs": [
    {
     "name": "stdout",
     "output_type": "stream",
     "text": [
      "142857\n"
     ]
    }
   ],
   "source": [
    "print(problem_52())"
   ]
  },
  {
   "cell_type": "markdown",
   "metadata": {},
   "source": [
    "<a id='53'></a>\n",
    "## 53. Combinatoric selections\n",
    "There are exactly ten ways of selecting three from five, 12345:\n",
    "\n",
    "$$123, 124, 125, 134, 135, 145, 234, 235, 245, 345$$\n",
    "\n",
    "In combinatorics, we use the notation, \n",
    "\n",
    "$$^5C_3 = 10$$\n",
    "\n",
    "In general,\n",
    "\n",
    "$$^nC_r = \\frac{n!}{r!(n−r)!}$$\n",
    "\n",
    "where $r ≤ n$, $n! = n\\cdot(n−1)\\cdot...\\cdot3\\cdot2\\cdot1, 0! = 1$.\n",
    "\n",
    "It is not until $n = 23$, that a value exceeds one-million:\n",
    "\n",
    "$$^{23}C_{10} = 1144066$$\n",
    "    \n",
    "How many, not necessarily distinct, values of $^nC_r$, for $1 ≤ n ≤ 100$, are greater than one-million?"
   ]
  },
  {
   "cell_type": "code",
   "execution_count": 9,
   "metadata": {},
   "outputs": [],
   "source": [
    "def problem_53(nmin, nmax, lim):\n",
    "    def factorial(n):\n",
    "        fact = 1\n",
    "        for i in range(1, n + 1):\n",
    "            fact *= i        \n",
    "        return fact\n",
    "    \n",
    "    values = 0\n",
    "    for n in range(nmin, nmax + 1):\n",
    "        for r in range(1, n):\n",
    "            c = factorial(n) / (factorial(r) * factorial(n - r))\n",
    "            if c > lim:\n",
    "                values += 1\n",
    "    return values"
   ]
  },
  {
   "cell_type": "code",
   "execution_count": 10,
   "metadata": {},
   "outputs": [
    {
     "name": "stdout",
     "output_type": "stream",
     "text": [
      "4075\n"
     ]
    }
   ],
   "source": [
    "print(problem_53(1, 100, 1000000))"
   ]
  },
  {
   "cell_type": "markdown",
   "metadata": {},
   "source": [
    "<a id='54'></a>\n",
    "## 54. Poker hands\n",
    "In the card game poker, a hand consists of five cards and are ranked, from lowest to highest, in the following way:\n",
    "\n",
    "* High Card: Highest value card.\n",
    "* One Pair: Two cards of the same value.\n",
    "* Two Pairs: Two different pairs.\n",
    "* Three of a Kind: Three cards of the same value.\n",
    "* Straight: All cards are consecutive values.\n",
    "* Flush: All cards of the same suit.\n",
    "* Full House: Three of a kind and a pair.\n",
    "* Four of a Kind: Four cards of the same value.\n",
    "* Straight Flush: All cards are consecutive values of same suit.\n",
    "* Royal Flush: Ten, Jack, Queen, King, Ace, in same suit.\n",
    "\n",
    "The cards are valued in the order:\n",
    "$$2, 3, 4, 5, 6, 7, 8, 9, 10, Jack, Queen, King, Ace$$\n",
    "\n",
    "If two players have the same ranked hands then the rank made up of the highest value wins; for example, a pair of eights beats a pair of fives (see example 1 below). But if two ranks tie, for example, both players have a pair of queens, then highest cards in each hand are compared (see example 4 below); if the highest cards tie then the next highest cards are compared, and so on.\n",
    "\n",
    "Consider the following five hands dealt to two players:\n",
    "\n",
    "| Hand | Player 1 | Player 2 | Winner |\n",
    "| --- | --- | --- | --- |\n",
    "| 1 | 5H 5C 6S 7S KD<br>(Pair of Fives) | 2C 3S 8S 8D TD<br>(Pair of Eights) | Player 2 |\n",
    "| 2 | 5D 8C 9S JS AC<br>(Highest card Ace) | 2C 5C 7D 8S QH<br>(Highest card Queen) | Player 1 |\n",
    "| 3 | 2D 9C AS AH AC<br>(Three Aces) | 3D 6D 7D TD QD<br>(Flush with Diamonds) | Player 2 |\n",
    "| 4 | 4D 6S 9H QH QC<br>(Pair of Queens, Highest card Nine) | 3D 6D 7H QD QS<br>(Pair of Queens, Highest card Seven) | Player 1 |\n",
    "| 5 | 2H 2D 4C 4D 4S<br>(Full House, With Three Fours) | 3C 3D 3S 9S 9D<br>(Full House, With Three Threes) | Player 1 |\n",
    "\n",
    "The file, poker.txt, contains one-thousand random hands dealt to two players. Each line of the file contains ten cards (separated by a single space): the first five are Player 1's cards and the last five are Player 2's cards. You can assume that all hands are valid (no invalid characters or repeated cards), each player's hand is in no specific order, and in each hand there is a clear winner.\n",
    "\n",
    "How many hands does Player 1 win?"
   ]
  },
  {
   "cell_type": "code",
   "execution_count": 21,
   "metadata": {},
   "outputs": [],
   "source": [
    "def problem_54(file):\n",
    "    def check_hand(hand):\n",
    "        result, highest, highest_ext = '', 0, 0\n",
    "        cards, values, suits = [], [], []\n",
    "        freqs = {}\n",
    "        for card in hand:\n",
    "            cards.append(card[0])\n",
    "            values.append(cards_value[card[0]])\n",
    "            suits.append(card[1])\n",
    "            if card[0] in freqs:\n",
    "                freqs[card[0]] += 1\n",
    "            else:\n",
    "                freqs[card[0]] = 1\n",
    "        if len(set(suits)) == 1 and sum(values) == 60:\n",
    "            result = 'Royal Flush'\n",
    "        elif len(set(suits)) == 1 and len(set(cards)) == 5 and max(values) - min(values) == 4:\n",
    "            result = 'Straight Flush'\n",
    "            highest = max(values)\n",
    "        elif len(set(cards)) == 2 and 4 in freqs.values():\n",
    "            result = 'Four of a Kind'\n",
    "            highest = cards_value[sorted(freqs, key=lambda x: freqs[x])[1]]\n",
    "        elif len(set(cards)) == 2 and 3 in freqs.values():\n",
    "            result = 'Full House'\n",
    "            highest = cards_value[sorted(freqs, key=lambda x: freqs[x])[1]]\n",
    "        elif len(set(suits)) == 1:\n",
    "            result = 'Flush'\n",
    "            highest = max(values)\n",
    "        elif len(set(cards)) == 5 and max(values) - min(values) == 4:\n",
    "            result = 'Straight'\n",
    "            highest = max(values)\n",
    "        elif 3 in freqs.values():\n",
    "            result = 'Three of a Kind'\n",
    "            highest = cards_value[sorted(freqs, key=lambda x: freqs[x])[-1]]\n",
    "        elif len(set(cards)) == 3 and 1 in freqs.values():\n",
    "            result = 'Two Pairs'\n",
    "            highest = max([cards_value[x] for x in sorted(freqs, key=lambda x: freqs[x])[-1: -3: -1]])\n",
    "            highest_ext = cards_value[sorted(freqs, key=lambda x: freqs[x])[0]]\n",
    "        elif len(set(cards)) == 4:\n",
    "            result = 'One Pair'\n",
    "            highest = cards_value[sorted(freqs, key=lambda x: freqs[x])[-1]]\n",
    "            highest_ext = max([cards_value[x] for x in sorted(freqs, key=lambda x: freqs[x])[: 3]])\n",
    "        else:\n",
    "            result = 'High Card'\n",
    "            highest = max(values)\n",
    "        return combinations_value[result], highest, highest_ext\n",
    "        \n",
    "    cards_value = {'2': 2, '3': 3, '4': 4, '5': 5, '6': 6, '7': 7, '8': 8,\n",
    "                   '9': 9, 'T': 10, 'J': 11, 'Q': 12, 'K': 13, 'A': 14}\n",
    "    combinations_value = {'High Card': 1, 'One Pair': 2, 'Two Pairs': 3,\n",
    "                          'Three of a Kind': 4, 'Straight': 5, 'Flush': 6,\n",
    "                          'Full House': 7, 'Four of a Kind': 8,\n",
    "                          'Straight Flush': 9, 'Royal Flush': 10}\n",
    "    with open(file, 'r') as file:\n",
    "        hands = [cards.split(' ') for cards in file.read().split('\\n')][:-1]\n",
    "        player_1 = [hand[: 5] for i, hand in enumerate(hands)]\n",
    "        player_2 = [hand[5: 10] for i, hand in enumerate(hands)]\n",
    "    player_1_wins = 0\n",
    "    for i in range(len(player_1)):\n",
    "        result_1, highest_1, highest_ext_1 = check_hand(player_1[i])\n",
    "        result_2, highest_2, highest_ext_2 = check_hand(player_2[i])\n",
    "        total_1 = result_1 * 10000 + highest_1 * 100 + highest_ext_1\n",
    "        total_2 = result_2 * 10000 + highest_2 * 100 + highest_ext_2\n",
    "        if total_1 > total_2:\n",
    "            player_1_wins += 1\n",
    "    return player_1_wins"
   ]
  },
  {
   "cell_type": "code",
   "execution_count": 22,
   "metadata": {},
   "outputs": [
    {
     "name": "stdout",
     "output_type": "stream",
     "text": [
      "376\n"
     ]
    }
   ],
   "source": [
    "print(problem_54('./Resources/p054_poker.txt'))"
   ]
  },
  {
   "cell_type": "markdown",
   "metadata": {},
   "source": [
    "<a id='55'></a>\n",
    "## 55. Lychrel numbers\n",
    "If we take 47, reverse and add, $47 + 74 = 121$, which is palindromic.\n",
    "\n",
    "Not all numbers produce palindromes so quickly. For example,\n",
    "\n",
    "$$349 + 943 = 1292$$\n",
    "$$1292 + 2921 = 4213$$\n",
    "$$4213 + 3124 = 7337$$\n",
    "\n",
    "That is, 349 took three iterations to arrive at a palindrome.\n",
    "\n",
    "Although no one has proved it yet, it is thought that some numbers, like 196, never produce a palindrome. A number that never forms a palindrome through the reverse and add process is called a Lychrel number. Due to the theoretical nature of these numbers, and for the purpose of this problem, we shall assume that a number is Lychrel until proven otherwise. In addition you are given that for every number below ten-thousand, it will either (i) become a palindrome in less than fifty iterations, or, (ii) no one, with all the computing power that exists, has managed so far to map it to a palindrome. In fact, 10677 is the first number to be shown to require over fifty iterations before producing a palindrome: 4668731596684224866951378664 (53 iterations, 28-digits).\n",
    "    \n",
    "Surprisingly, there are palindromic numbers that are themselves Lychrel numbers; the first example is 4994.\n",
    "\n",
    "How many Lychrel numbers are there below ten-thousand?"
   ]
  },
  {
   "cell_type": "code",
   "execution_count": 19,
   "metadata": {},
   "outputs": [],
   "source": [
    "def problem_55(lim):\n",
    "    num = 0\n",
    "    for n in range(1, lim + 1):\n",
    "        n_new = n\n",
    "        flag = True\n",
    "        for i in range(50):\n",
    "            n_new = n_new + int(str(n_new)[::-1])\n",
    "            if str(n_new) == str(n_new)[::-1]:\n",
    "                flag = False\n",
    "                break\n",
    "        if flag:\n",
    "            num += 1\n",
    "    return num"
   ]
  },
  {
   "cell_type": "code",
   "execution_count": 20,
   "metadata": {},
   "outputs": [
    {
     "name": "stdout",
     "output_type": "stream",
     "text": [
      "249\n"
     ]
    }
   ],
   "source": [
    "print(problem_55(10000))"
   ]
  }
 ],
 "metadata": {
  "kernelspec": {
   "display_name": "Python 3",
   "language": "python",
   "name": "python3"
  },
  "language_info": {
   "codemirror_mode": {
    "name": "ipython",
    "version": 3
   },
   "file_extension": ".py",
   "mimetype": "text/x-python",
   "name": "python",
   "nbconvert_exporter": "python",
   "pygments_lexer": "ipython3",
   "version": "3.6.6"
  }
 },
 "nbformat": 4,
 "nbformat_minor": 2
}
